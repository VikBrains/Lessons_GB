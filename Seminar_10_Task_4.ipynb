{
  "nbformat": 4,
  "nbformat_minor": 0,
  "metadata": {
    "colab": {
      "provenance": [],
      "authorship_tag": "ABX9TyOU10WU57B8DTKnJCt+gOxS",
      "include_colab_link": true
    },
    "kernelspec": {
      "name": "python3",
      "display_name": "Python 3"
    },
    "language_info": {
      "name": "python"
    }
  },
  "cells": [
    {
      "cell_type": "markdown",
      "metadata": {
        "id": "view-in-github",
        "colab_type": "text"
      },
      "source": [
        "<a href=\"https://colab.research.google.com/github/VikBrains/Lessons_GB/blob/main/Seminar_10_Task_4.ipynb\" target=\"_parent\"><img src=\"https://colab.research.google.com/assets/colab-badge.svg\" alt=\"Open In Colab\"/></a>"
      ]
    },
    {
      "cell_type": "code",
      "execution_count": null,
      "metadata": {
        "id": "Eq-6d2CknF_M"
      },
      "outputs": [],
      "source": [
        "import pandas as pd\n",
        "import random"
      ]
    },
    {
      "cell_type": "markdown",
      "source": [
        "Задача 44: В ячейке ниже представлен код генерирующий DataFrame, которая состоит всего из 1 столбца. Ваша задача перевести его в one hot вид.\n",
        "Сможете ли вы это сделать без get_dummies?"
      ],
      "metadata": {
        "id": "nqgpZ_0NUqk6"
      }
    },
    {
      "cell_type": "code",
      "source": [
        "lst = ['robot'] * 10\n",
        "lst += ['human'] * 10\n",
        "random.shuffle(lst)\n",
        "data = pd.DataFrame({'whoAmI':lst})\n",
        "data.head\n",
        "# - - - - - - - - - - -\n",
        "\n",
        "data.loc[data['whoAmI'] == 'robot', 'robot'] = '1'\n",
        "data.loc[data['whoAmI'] == 'human', 'human'] = '1'\n",
        "data.loc[data['whoAmI'] != 'robot', 'robot'] = '0'\n",
        "data.loc[data['whoAmI'] != 'human', 'human'] = '0'\n",
        "\n",
        "data"
      ],
      "metadata": {
        "id": "KbDgpeLZOjn9"
      },
      "execution_count": null,
      "outputs": []
    },
    {
      "cell_type": "code",
      "source": [
        "lst = ['robot'] * 10\n",
        "lst += ['human'] * 10\n",
        "random.shuffle(lst)\n",
        "data = pd.DataFrame({'whoAmI': lst})\n",
        "data.head\n",
        "# - - - - - - - - - - -\n",
        "\n",
        "data['tmp'] = 1\n",
        "data.set_index([data.index, 'whoAmI'], inplace=True)\n",
        "data = data.unstack(level=-1, fill_value = 0).astype(int)\n",
        "new_data.columns = data.columns.droplevel()\n",
        "new_data.columns.name = None\n",
        "\n",
        "new_data"
      ],
      "metadata": {
        "id": "h-ilV_9LOv6n"
      },
      "execution_count": null,
      "outputs": []
    }
  ]
}